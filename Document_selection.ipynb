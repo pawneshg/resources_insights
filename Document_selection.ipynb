{
 "cells": [
  {
   "cell_type": "markdown",
   "metadata": {},
   "source": [
    "### $match"
   ]
  },
  {
   "cell_type": "code",
   "execution_count": 1,
   "metadata": {},
   "outputs": [],
   "source": [
    "mongo_url = 'mongodb://localhost:27017/'\n",
    "\n"
   ]
  },
  {
   "cell_type": "code",
   "execution_count": 2,
   "metadata": {},
   "outputs": [],
   "source": [
    "from pymongo import MongoClient\n",
    "mongo_url = 'mongodb://localhost:27017/'\n",
    "client = MongoClient(mongo_url)\n",
    "db = client.cloud_resources # database\n",
    "inventory = db.inventory   # collection"
   ]
  },
  {
   "cell_type": "code",
   "execution_count": null,
   "metadata": {},
   "outputs": [],
   "source": []
  },
  {
   "cell_type": "code",
   "execution_count": 5,
   "metadata": {},
   "outputs": [],
   "source": [
    "match_stage = {\"$match\": {\"provider_code\": \"aws\"}}\n",
    "group_by_stage = {\"$group\": {\"_id\": \"all\", \"sum\":{\"$sum\": 1}}}"
   ]
  },
  {
   "cell_type": "code",
   "execution_count": 6,
   "metadata": {},
   "outputs": [
    {
     "name": "stdout",
     "output_type": "stream",
     "text": [
      "[{'_id': 'all', 'sum': 800000}]\n"
     ]
    }
   ],
   "source": [
    "import pprint\n",
    "pprint.pprint(list(db.inventory.aggregate([match_stage, group_by_stage])))"
   ]
  },
  {
   "cell_type": "markdown",
   "metadata": {},
   "source": [
    "### Compound match "
   ]
  },
  {
   "cell_type": "code",
   "execution_count": 11,
   "metadata": {},
   "outputs": [],
   "source": [
    "match_stage = {\"$match\": {\"provider_code\": \"aws\", \"status\": \"Active\"}}  # and condition in match "
   ]
  },
  {
   "cell_type": "code",
   "execution_count": 12,
   "metadata": {},
   "outputs": [
    {
     "name": "stdout",
     "output_type": "stream",
     "text": [
      "[{'_id': 'all', 'sum': 800000}]\n"
     ]
    }
   ],
   "source": [
    "group_by_stage = {\"$group\": {\"_id\": \"all\", \"sum\":{\"$sum\": 1}}}\n",
    "pprint.pprint(list(db.inventory.aggregate([match_stage, group_by_stage])))"
   ]
  },
  {
   "cell_type": "code",
   "execution_count": 13,
   "metadata": {},
   "outputs": [],
   "source": [
    "# another example "
   ]
  },
  {
   "cell_type": "code",
   "execution_count": 14,
   "metadata": {},
   "outputs": [],
   "source": [
    "match_stage = {\"$match\": {\"provider_code\": \"aws\", \"manage\": {\"$in\": [\"ibm_managed\"]}}}  # and condition in match "
   ]
  },
  {
   "cell_type": "code",
   "execution_count": 15,
   "metadata": {},
   "outputs": [
    {
     "name": "stdout",
     "output_type": "stream",
     "text": [
      "[{'_id': 'all', 'sum': 199776}]\n"
     ]
    }
   ],
   "source": [
    "group_by_stage = {\"$group\": {\"_id\": \"all\", \"sum\":{\"$sum\": 1}}}\n",
    "pprint.pprint(list(db.inventory.aggregate([match_stage, group_by_stage])))"
   ]
  },
  {
   "cell_type": "markdown",
   "metadata": {},
   "source": [
    "```\n",
    "$match is a pipeline operator , \n",
    "hence in the pipeline you can use match at any number of time \n",
    "```"
   ]
  },
  {
   "cell_type": "markdown",
   "metadata": {},
   "source": [
    "### Control the order of document passed in pipeline"
   ]
  },
  {
   "cell_type": "code",
   "execution_count": 16,
   "metadata": {},
   "outputs": [],
   "source": [
    "sort_stage = {\"$sort\": {\"provider_resource_name\": 1\n",
    "                       }}\n",
    "match_stage = {\"$match\": {\"provider_account\": \"5432\"}}\n",
    "\n",
    "limit_stage = {\"$limit\": 2}\n",
    "\n",
    "skip_stage = {\"$skip\": 1}  # skip 1 record in the pipeline"
   ]
  },
  {
   "cell_type": "code",
   "execution_count": 17,
   "metadata": {},
   "outputs": [
    {
     "name": "stdout",
     "output_type": "stream",
     "text": [
      "[{'_id': ObjectId('5d021544f2e62711cbbd9dbe'),\n",
      "  'context': {'application': ['cam'], 'environment': ['qa']},\n",
      "  'location': {'availability_zone_code': ['ap-southeast-2a',\n",
      "                                          'ap-southeast-2b',\n",
      "                                          'ap-southeast-2c'],\n",
      "               'region_code': 'ap-southeast-2'},\n",
      "  'manage': 'ibm_managed',\n",
      "  'provider_account': '5432',\n",
      "  'provider_account_name': 'test_account_5',\n",
      "  'provider_code': 'aws',\n",
      "  'provider_resource_id': {'name': '0EILXU8H7E8U2IKC8BY8NSWKM0HX7CZD2YUABI85HJ3HNYYITDNXIZ3PMLRUHLFQ7',\n",
      "                           'value': 'I8EN9HWFEL6HCB1XFWDUL5817MI4TNBYBXM99NFJ1RZZY'},\n",
      "  'provider_resource_name': 'Batch EC2 - 0005d01a-aae0-4c17-8360-0be2a7d96844',\n",
      "  'service_category_type': 'compute',\n",
      "  'status': 'Active',\n",
      "  'type': 'service_instance'}]\n"
     ]
    }
   ],
   "source": [
    "import pprint\n",
    "pprint.pprint(list(db.inventory.aggregate([match_stage, sort_stage, limit_stage, skip_stage], allowDiskUse=True)))"
   ]
  },
  {
   "cell_type": "code",
   "execution_count": 6,
   "metadata": {},
   "outputs": [],
   "source": [
    "### sort performance is depended on indexing "
   ]
  },
  {
   "cell_type": "markdown",
   "metadata": {},
   "source": [
    "```if sort is used after $group , $sort , $project , the indexing wont be used, because $group, $project generate the new document and these document dont have indexes , Hence it is recommended to use sort before these pipeline operator .```"
   ]
  },
  {
   "cell_type": "markdown",
   "metadata": {},
   "source": [
    "``` place $match before $sort ```"
   ]
  },
  {
   "cell_type": "markdown",
   "metadata": {},
   "source": [
    "```$skip is used when you want to remove outlinears from your calculation.\n",
    "another use in pagination ```"
   ]
  },
  {
   "cell_type": "code",
   "execution_count": null,
   "metadata": {},
   "outputs": [],
   "source": []
  }
 ],
 "metadata": {
  "kernelspec": {
   "display_name": "Python 3",
   "language": "python",
   "name": "python3"
  },
  "language_info": {
   "codemirror_mode": {
    "name": "ipython",
    "version": 3
   },
   "file_extension": ".py",
   "mimetype": "text/x-python",
   "name": "python",
   "nbconvert_exporter": "python",
   "pygments_lexer": "ipython3",
   "version": "3.6.7"
  }
 },
 "nbformat": 4,
 "nbformat_minor": 2
}
