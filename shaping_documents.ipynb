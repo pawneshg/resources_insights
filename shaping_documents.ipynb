{
 "cells": [
  {
   "cell_type": "code",
   "execution_count": 2,
   "metadata": {},
   "outputs": [],
   "source": [
    "from pymongo import MongoClient\n",
    "mongo_url = 'mongodb://localhost:27017/'\n",
    "client = MongoClient(mongo_url)\n",
    "db = client.cloud_resources # database\n",
    "inventory = db.inventory   # collection"
   ]
  },
  {
   "cell_type": "code",
   "execution_count": 2,
   "metadata": {},
   "outputs": [],
   "source": [
    "#import pprint\n",
    "#pprint.pprint(list(db.inventory.aggregate([match_stage, sort_stage, limit_stage, skip_stage], allowDiskUse=True)))"
   ]
  },
  {
   "cell_type": "markdown",
   "metadata": {},
   "source": [
    "## $unwind pipeline operator "
   ]
  },
  {
   "cell_type": "markdown",
   "metadata": {},
   "source": [
    "``` works on array field only ```"
   ]
  },
  {
   "cell_type": "markdown",
   "metadata": {},
   "source": [
    "### group by the context.application "
   ]
  },
  {
   "cell_type": "code",
   "execution_count": 3,
   "metadata": {},
   "outputs": [],
   "source": [
    "unwind_stage = {\"$unwind\": \"$context.application\"}\n",
    "limit_stage = {\"$limit\": 1}"
   ]
  },
  {
   "cell_type": "code",
   "execution_count": 4,
   "metadata": {},
   "outputs": [
    {
     "name": "stdout",
     "output_type": "stream",
     "text": [
      "[{'_id': ObjectId('5d02109af2e62711cbb03963'),\n",
      "  'context': {'application': 'cloud_based_app', 'environment': ['dev']},\n",
      "  'location': {'availability_zone_code': ['ap-south-1a', 'ap-south-1b'],\n",
      "               'region_code': 'ap-south-1'},\n",
      "  'manage': 'enterprise_it',\n",
      "  'provider_account': '12345678',\n",
      "  'provider_account_name': 'test_account_1',\n",
      "  'provider_code': 'TestProvider',\n",
      "  'provider_resource_id': {'name': 'F0YC4G0483UW6VLIQD4WITJJT69A2VB962KIKC30XWXUOF7FLJXMPOAXADZHKDRLM',\n",
      "                           'value': 'BPZQHZDCAURTJ7OJI2LQBS1MUA4SOWLQJHLV4GG56GRVR'},\n",
      "  'provider_resource_name': 'Direct Connect - '\n",
      "                            '8bdb002a-5abe-4228-ace9-7d9a2417d22f',\n",
      "  'service_category_type': 'network',\n",
      "  'status': 'Active',\n",
      "  'type': 'service_instance'}]\n"
     ]
    }
   ],
   "source": [
    "import pprint\n",
    "pprint.pprint(list(db.inventory.aggregate([unwind_stage, limit_stage], allowDiskUse=True)))"
   ]
  },
  {
   "cell_type": "markdown",
   "metadata": {},
   "source": [
    "```the application field inside context is converted into the string .\n",
    "If the resource document has context.application [\"app1\", \"app2\", \"app3\"], this resource documents gets converted into 3 documents\n",
    "and type of application field changed to string. \n",
    "``` "
   ]
  },
  {
   "cell_type": "markdown",
   "metadata": {},
   "source": [
    "``````Note```Only those documents will be passed to another stage , which has context.application field ```"
   ]
  },
  {
   "cell_type": "markdown",
   "metadata": {},
   "source": [
    "## Thinking documents "
   ]
  },
  {
   "cell_type": "code",
   "execution_count": 5,
   "metadata": {},
   "outputs": [],
   "source": [
    "unwind_stage = {\"$unwind\": \"$context.application\"}\n",
    "groupby_stage = {\"$group\": {\"_id\": \"$provider_code\", \"sum\": {\"$sum\": 1}}}"
   ]
  },
  {
   "cell_type": "code",
   "execution_count": 6,
   "metadata": {},
   "outputs": [
    {
     "name": "stdout",
     "output_type": "stream",
     "text": [
      "[{'_id': 'aws', 'sum': 800000}, {'_id': 'TestProvider', 'sum': 200000}]\n"
     ]
    }
   ],
   "source": [
    "pprint.pprint(list(db.inventory.aggregate([unwind_stage, groupby_stage], allowDiskUse=True)))"
   ]
  },
  {
   "cell_type": "markdown",
   "metadata": {},
   "source": [
    "### $project pipeline operator "
   ]
  },
  {
   "cell_type": "markdown",
   "metadata": {},
   "source": [
    "#### Trim out the fields , which we dont want after each stage "
   ]
  },
  {
   "cell_type": "markdown",
   "metadata": {},
   "source": [
    "```To make efficient use memory and io,  we dont want to load whole document into all stages, hence we use $project to pass only selected fields into next stage.```"
   ]
  },
  {
   "cell_type": "code",
   "execution_count": 12,
   "metadata": {},
   "outputs": [],
   "source": [
    "project_stage = {\"$project\": {\"provider_code\": 1, \"provider_account\": 1, \"context.application\": 1}}\n",
    "limit_stage = {\"$limit\": 10}"
   ]
  },
  {
   "cell_type": "code",
   "execution_count": 13,
   "metadata": {},
   "outputs": [
    {
     "name": "stdout",
     "output_type": "stream",
     "text": [
      "[{'_id': ObjectId('5d02109af2e62711cbb03963'),\n",
      "  'context': {'application': ['cloud_based_app']},\n",
      "  'provider_account': '12345678',\n",
      "  'provider_code': 'TestProvider'},\n",
      " {'_id': ObjectId('5d02109af2e62711cbb03964'),\n",
      "  'context': {'application': ['cloud_based_app']},\n",
      "  'provider_account': '12345678',\n",
      "  'provider_code': 'TestProvider'},\n",
      " {'_id': ObjectId('5d02109af2e62711cbb03965'),\n",
      "  'context': {'application': ['cloud_based_app']},\n",
      "  'provider_account': '12345678',\n",
      "  'provider_code': 'TestProvider'},\n",
      " {'_id': ObjectId('5d02109af2e62711cbb03966'),\n",
      "  'context': {'application': ['store']},\n",
      "  'provider_account': '12345678',\n",
      "  'provider_code': 'TestProvider'},\n",
      " {'_id': ObjectId('5d02109af2e62711cbb03967'),\n",
      "  'context': {'application': ['d2ops']},\n",
      "  'provider_account': '12345678',\n",
      "  'provider_code': 'TestProvider'},\n",
      " {'_id': ObjectId('5d02109af2e62711cbb03968'),\n",
      "  'context': {'application': ['cam']},\n",
      "  'provider_account': '12345678',\n",
      "  'provider_code': 'TestProvider'},\n",
      " {'_id': ObjectId('5d02109af2e62711cbb03969'),\n",
      "  'context': {'application': ['cam']},\n",
      "  'provider_account': '12345678',\n",
      "  'provider_code': 'TestProvider'},\n",
      " {'_id': ObjectId('5d02109af2e62711cbb0396a'),\n",
      "  'context': {'application': ['cam']},\n",
      "  'provider_account': '12345678',\n",
      "  'provider_code': 'TestProvider'},\n",
      " {'_id': ObjectId('5d02109af2e62711cbb0396b'),\n",
      "  'context': {'application': ['cam']},\n",
      "  'provider_account': '12345678',\n",
      "  'provider_code': 'TestProvider'},\n",
      " {'_id': ObjectId('5d02109af2e62711cbb0396c'),\n",
      "  'context': {'application': ['cam']},\n",
      "  'provider_account': '12345678',\n",
      "  'provider_code': 'TestProvider'}]\n"
     ]
    }
   ],
   "source": [
    "pprint.pprint(list(db.inventory.aggregate([project_stage, limit_stage], allowDiskUse=True)))"
   ]
  },
  {
   "cell_type": "markdown",
   "metadata": {},
   "source": [
    "### Field rename by $project"
   ]
  },
  {
   "cell_type": "code",
   "execution_count": 14,
   "metadata": {},
   "outputs": [],
   "source": [
    "project_stage = project_stage = {\"$project\": {\"provider\": \"$provider_code\", \"account\": \"$provider_account\", \"resource_application\": \"$context.application\"}}"
   ]
  },
  {
   "cell_type": "code",
   "execution_count": 15,
   "metadata": {},
   "outputs": [],
   "source": [
    "limit_stage = {\"$limit\": 10}\n"
   ]
  },
  {
   "cell_type": "code",
   "execution_count": 16,
   "metadata": {},
   "outputs": [
    {
     "name": "stdout",
     "output_type": "stream",
     "text": [
      "[{'_id': ObjectId('5d02109af2e62711cbb03963'),\n",
      "  'account': '12345678',\n",
      "  'provider': 'TestProvider',\n",
      "  'resource_application': ['cloud_based_app']},\n",
      " {'_id': ObjectId('5d02109af2e62711cbb03964'),\n",
      "  'account': '12345678',\n",
      "  'provider': 'TestProvider',\n",
      "  'resource_application': ['cloud_based_app']},\n",
      " {'_id': ObjectId('5d02109af2e62711cbb03965'),\n",
      "  'account': '12345678',\n",
      "  'provider': 'TestProvider',\n",
      "  'resource_application': ['cloud_based_app']},\n",
      " {'_id': ObjectId('5d02109af2e62711cbb03966'),\n",
      "  'account': '12345678',\n",
      "  'provider': 'TestProvider',\n",
      "  'resource_application': ['store']},\n",
      " {'_id': ObjectId('5d02109af2e62711cbb03967'),\n",
      "  'account': '12345678',\n",
      "  'provider': 'TestProvider',\n",
      "  'resource_application': ['d2ops']},\n",
      " {'_id': ObjectId('5d02109af2e62711cbb03968'),\n",
      "  'account': '12345678',\n",
      "  'provider': 'TestProvider',\n",
      "  'resource_application': ['cam']},\n",
      " {'_id': ObjectId('5d02109af2e62711cbb03969'),\n",
      "  'account': '12345678',\n",
      "  'provider': 'TestProvider',\n",
      "  'resource_application': ['cam']},\n",
      " {'_id': ObjectId('5d02109af2e62711cbb0396a'),\n",
      "  'account': '12345678',\n",
      "  'provider': 'TestProvider',\n",
      "  'resource_application': ['cam']},\n",
      " {'_id': ObjectId('5d02109af2e62711cbb0396b'),\n",
      "  'account': '12345678',\n",
      "  'provider': 'TestProvider',\n",
      "  'resource_application': ['cam']},\n",
      " {'_id': ObjectId('5d02109af2e62711cbb0396c'),\n",
      "  'account': '12345678',\n",
      "  'provider': 'TestProvider',\n",
      "  'resource_application': ['cam']}]\n"
     ]
    }
   ],
   "source": [
    "pprint.pprint(list(db.inventory.aggregate([project_stage, limit_stage], allowDiskUse=True)))"
   ]
  },
  {
   "cell_type": "markdown",
   "metadata": {},
   "source": [
    "## Reducing the number of fields in pipeline \n",
    "## Computation"
   ]
  },
  {
   "cell_type": "code",
   "execution_count": 24,
   "metadata": {},
   "outputs": [],
   "source": [
    "project_stage = project_stage = {\"$project\": {\"_id\": 0, \"type\": 1, \"provider_and_account\": {\"$concat\": [\"$provider_code\", ' ', \"$provider_account\"]}, \"resource_application\": \"$context.application\"}}"
   ]
  },
  {
   "cell_type": "code",
   "execution_count": 25,
   "metadata": {},
   "outputs": [],
   "source": [
    "limit_stage = {\"$limit\": 10}\n",
    "\n"
   ]
  },
  {
   "cell_type": "code",
   "execution_count": 26,
   "metadata": {},
   "outputs": [
    {
     "name": "stdout",
     "output_type": "stream",
     "text": [
      "[{'provider_and_account': 'TestProvider 12345678',\n",
      "  'resource_application': ['cloud_based_app'],\n",
      "  'type': 'service_instance'},\n",
      " {'provider_and_account': 'TestProvider 12345678',\n",
      "  'resource_application': ['cloud_based_app'],\n",
      "  'type': 'service_instance'},\n",
      " {'provider_and_account': 'TestProvider 12345678',\n",
      "  'resource_application': ['cloud_based_app'],\n",
      "  'type': 'service_instance'},\n",
      " {'provider_and_account': 'TestProvider 12345678',\n",
      "  'resource_application': ['store'],\n",
      "  'type': 'independent_component'},\n",
      " {'provider_and_account': 'TestProvider 12345678',\n",
      "  'resource_application': ['d2ops'],\n",
      "  'type': 'independent_component'},\n",
      " {'provider_and_account': 'TestProvider 12345678',\n",
      "  'resource_application': ['cam'],\n",
      "  'type': 'independent_component'},\n",
      " {'provider_and_account': 'TestProvider 12345678',\n",
      "  'resource_application': ['cam'],\n",
      "  'type': 'service_instance'},\n",
      " {'provider_and_account': 'TestProvider 12345678',\n",
      "  'resource_application': ['cam'],\n",
      "  'type': 'service_instance'},\n",
      " {'provider_and_account': 'TestProvider 12345678',\n",
      "  'resource_application': ['cam'],\n",
      "  'type': 'service_instance'},\n",
      " {'provider_and_account': 'TestProvider 12345678',\n",
      "  'resource_application': ['cam'],\n",
      "  'type': 'service_instance'}]\n"
     ]
    }
   ],
   "source": [
    "pprint.pprint(list(db.inventory.aggregate([project_stage, limit_stage], allowDiskUse=True)))"
   ]
  },
  {
   "cell_type": "markdown",
   "metadata": {},
   "source": [
    "``` similary we can use $multiply $add, $substr (truncate string) ```"
   ]
  },
  {
   "cell_type": "markdown",
   "metadata": {},
   "source": [
    "### $ifNull"
   ]
  },
  {
   "cell_type": "code",
   "execution_count": 28,
   "metadata": {},
   "outputs": [],
   "source": [
    "project_stage_ifnull = {\"$project\": {\"weight\": {\"$ifNull\": [\"$weight\", 1.0]}}}"
   ]
  },
  {
   "cell_type": "code",
   "execution_count": 29,
   "metadata": {},
   "outputs": [
    {
     "name": "stdout",
     "output_type": "stream",
     "text": [
      "[{'_id': ObjectId('5d02109af2e62711cbb03963'), 'weight': 1.0},\n",
      " {'_id': ObjectId('5d02109af2e62711cbb03964'), 'weight': 1.0},\n",
      " {'_id': ObjectId('5d02109af2e62711cbb03965'), 'weight': 1.0},\n",
      " {'_id': ObjectId('5d02109af2e62711cbb03966'), 'weight': 1.0},\n",
      " {'_id': ObjectId('5d02109af2e62711cbb03967'), 'weight': 1.0},\n",
      " {'_id': ObjectId('5d02109af2e62711cbb03968'), 'weight': 1.0},\n",
      " {'_id': ObjectId('5d02109af2e62711cbb03969'), 'weight': 1.0},\n",
      " {'_id': ObjectId('5d02109af2e62711cbb0396a'), 'weight': 1.0},\n",
      " {'_id': ObjectId('5d02109af2e62711cbb0396b'), 'weight': 1.0},\n",
      " {'_id': ObjectId('5d02109af2e62711cbb0396c'), 'weight': 1.0}]\n"
     ]
    }
   ],
   "source": [
    "limit_stage = {\"$limit\": 10}\n",
    "\n",
    "pprint.pprint(list(db.inventory.aggregate([project_stage_ifnull, limit_stage], allowDiskUse=True)))"
   ]
  },
  {
   "cell_type": "code",
   "execution_count": 30,
   "metadata": {},
   "outputs": [
    {
     "name": "stdout",
     "output_type": "stream",
     "text": [
      "[{'_id': ObjectId('5d02109af2e62711cbb03963'),\n",
      "  'context': {'project': ['google']}},\n",
      " {'_id': ObjectId('5d02109af2e62711cbb03964'),\n",
      "  'context': {'project': ['google']}},\n",
      " {'_id': ObjectId('5d02109af2e62711cbb03965'),\n",
      "  'context': {'project': ['google']}},\n",
      " {'_id': ObjectId('5d02109af2e62711cbb03966'),\n",
      "  'context': {'project': ['google']}},\n",
      " {'_id': ObjectId('5d02109af2e62711cbb03967'),\n",
      "  'context': {'project': ['google']}},\n",
      " {'_id': ObjectId('5d02109af2e62711cbb03968'),\n",
      "  'context': {'project': ['google']}},\n",
      " {'_id': ObjectId('5d02109af2e62711cbb03969'),\n",
      "  'context': {'project': ['google']}},\n",
      " {'_id': ObjectId('5d02109af2e62711cbb0396a'),\n",
      "  'context': {'project': ['google']}},\n",
      " {'_id': ObjectId('5d02109af2e62711cbb0396b'),\n",
      "  'context': {'project': ['google']}},\n",
      " {'_id': ObjectId('5d02109af2e62711cbb0396c'),\n",
      "  'context': {'project': ['google']}}]\n"
     ]
    }
   ],
   "source": [
    "project_stage_ifnull = {\"$project\": {\"context.project\": {\"$ifNull\": [\"$context.project\", [\"google\"]]}}}\n",
    "limit_stage = {\"$limit\": 10}\n",
    "\n",
    "pprint.pprint(list(db.inventory.aggregate([project_stage_ifnull, limit_stage], allowDiskUse=True)))"
   ]
  },
  {
   "cell_type": "code",
   "execution_count": 31,
   "metadata": {},
   "outputs": [
    {
     "name": "stdout",
     "output_type": "stream",
     "text": [
      "[{'_id': ObjectId('5d02109af2e62711cbb03963'),\n",
      "  'context': {'application': ['cloud_based_app']}},\n",
      " {'_id': ObjectId('5d02109af2e62711cbb03964'),\n",
      "  'context': {'application': ['cloud_based_app']}},\n",
      " {'_id': ObjectId('5d02109af2e62711cbb03965'),\n",
      "  'context': {'application': ['cloud_based_app']}},\n",
      " {'_id': ObjectId('5d02109af2e62711cbb03966'),\n",
      "  'context': {'application': ['store']}},\n",
      " {'_id': ObjectId('5d02109af2e62711cbb03967'),\n",
      "  'context': {'application': ['d2ops']}},\n",
      " {'_id': ObjectId('5d02109af2e62711cbb03968'),\n",
      "  'context': {'application': ['cam']}},\n",
      " {'_id': ObjectId('5d02109af2e62711cbb03969'),\n",
      "  'context': {'application': ['cam']}},\n",
      " {'_id': ObjectId('5d02109af2e62711cbb0396a'),\n",
      "  'context': {'application': ['cam']}},\n",
      " {'_id': ObjectId('5d02109af2e62711cbb0396b'),\n",
      "  'context': {'application': ['cam']}},\n",
      " {'_id': ObjectId('5d02109af2e62711cbb0396c'),\n",
      "  'context': {'application': ['cam']}}]\n"
     ]
    }
   ],
   "source": [
    "project_stage_ifnull = {\"$project\": {\"context.application\": {\"$ifNull\": [\"$context.application\", []]}}}\n",
    "limit_stage = {\"$limit\": 10}\n",
    "\n",
    "pprint.pprint(list(db.inventory.aggregate([project_stage_ifnull, limit_stage], allowDiskUse=True)))"
   ]
  },
  {
   "cell_type": "markdown",
   "metadata": {},
   "source": [
    "## Creating sub document using $project "
   ]
  },
  {
   "cell_type": "code",
   "execution_count": 33,
   "metadata": {},
   "outputs": [],
   "source": [
    "project_sub_doc_stage = {\"$project\": {\"primary_info\": {\"code\": \"$provider_code\", \"details\": {\"account\": \"$provider_account\", \"status\": \"$status\"}}}}"
   ]
  },
  {
   "cell_type": "code",
   "execution_count": 34,
   "metadata": {},
   "outputs": [
    {
     "name": "stdout",
     "output_type": "stream",
     "text": [
      "[{'_id': ObjectId('5d02109af2e62711cbb03963'),\n",
      "  'primary_info': {'code': 'TestProvider',\n",
      "                   'details': {'account': '12345678', 'status': 'Active'}}},\n",
      " {'_id': ObjectId('5d02109af2e62711cbb03964'),\n",
      "  'primary_info': {'code': 'TestProvider',\n",
      "                   'details': {'account': '12345678', 'status': 'Active'}}},\n",
      " {'_id': ObjectId('5d02109af2e62711cbb03965'),\n",
      "  'primary_info': {'code': 'TestProvider',\n",
      "                   'details': {'account': '12345678', 'status': 'Active'}}},\n",
      " {'_id': ObjectId('5d02109af2e62711cbb03966'),\n",
      "  'primary_info': {'code': 'TestProvider',\n",
      "                   'details': {'account': '12345678', 'status': 'Active'}}},\n",
      " {'_id': ObjectId('5d02109af2e62711cbb03967'),\n",
      "  'primary_info': {'code': 'TestProvider',\n",
      "                   'details': {'account': '12345678', 'status': 'Active'}}},\n",
      " {'_id': ObjectId('5d02109af2e62711cbb03968'),\n",
      "  'primary_info': {'code': 'TestProvider',\n",
      "                   'details': {'account': '12345678', 'status': 'Active'}}},\n",
      " {'_id': ObjectId('5d02109af2e62711cbb03969'),\n",
      "  'primary_info': {'code': 'TestProvider',\n",
      "                   'details': {'account': '12345678', 'status': 'Active'}}},\n",
      " {'_id': ObjectId('5d02109af2e62711cbb0396a'),\n",
      "  'primary_info': {'code': 'TestProvider',\n",
      "                   'details': {'account': '12345678', 'status': 'Active'}}},\n",
      " {'_id': ObjectId('5d02109af2e62711cbb0396b'),\n",
      "  'primary_info': {'code': 'TestProvider',\n",
      "                   'details': {'account': '12345678', 'status': 'Active'}}},\n",
      " {'_id': ObjectId('5d02109af2e62711cbb0396c'),\n",
      "  'primary_info': {'code': 'TestProvider',\n",
      "                   'details': {'account': '12345678', 'status': 'Active'}}}]\n"
     ]
    }
   ],
   "source": [
    "limit_stage = {\"$limit\": 10}\n",
    "\n",
    "pprint.pprint(list(db.inventory.aggregate([project_sub_doc_stage, limit_stage], allowDiskUse=True)))"
   ]
  },
  {
   "cell_type": "markdown",
   "metadata": {},
   "source": [
    "## Groupby Multiple keys"
   ]
  },
  {
   "cell_type": "code",
   "execution_count": 44,
   "metadata": {},
   "outputs": [],
   "source": [
    "match_stage = {\"$match\": {\"provider_code\": \"aws\"}}\n",
    "project_stage = {\"$project\": {\"_id\":0, \"type\": 1, \"context\": 1}}\n",
    "unwind_stage = {\"$unwind\": \"$context.application\"}\n",
    "sort_stage = {\"$sort\": {\"context.application\": 1}}\n",
    "groupby_stage = {\"$group\": {\"_id\": {\"app\": \"$context.application\", \"type\": \"$type\"}, \"sum\": {\"$sum\": 1}}}"
   ]
  },
  {
   "cell_type": "code",
   "execution_count": 45,
   "metadata": {},
   "outputs": [
    {
     "name": "stdout",
     "output_type": "stream",
     "text": [
      "[{'_id': {'app': 'store', 'type': 'independent_component'}, 'sum': 25415},\n",
      " {'_id': {'app': 'store', 'type': 'service_instance'}, 'sum': 89114},\n",
      " {'_id': {'app': 'finance_app', 'type': 'service_instance'}, 'sum': 89635},\n",
      " {'_id': {'app': 'finance_app', 'type': 'independent_component'}, 'sum': 25277},\n",
      " {'_id': {'app': 'aiops', 'type': 'independent_component'}, 'sum': 25544},\n",
      " {'_id': {'app': 'd2ops', 'type': 'service_instance'}, 'sum': 88760},\n",
      " {'_id': {'app': 'cam', 'type': 'independent_component'}, 'sum': 25431},\n",
      " {'_id': {'app': 'aiops', 'type': 'service_instance'}, 'sum': 88341},\n",
      " {'_id': {'app': 'cloud_based_app', 'type': 'independent_component'},\n",
      "  'sum': 25196},\n",
      " {'_id': {'app': 'cam', 'type': 'service_instance'}, 'sum': 88268},\n",
      " {'_id': {'app': 'cloud_based_app', 'type': 'service_instance'}, 'sum': 88515},\n",
      " {'_id': {'app': 'd2ops', 'type': 'independent_component'}, 'sum': 25205},\n",
      " {'_id': {'app': 'ecommerce_app', 'type': 'independent_component'},\n",
      "  'sum': 24943},\n",
      " {'_id': {'app': 'ecommerce_app', 'type': 'service_instance'}, 'sum': 90356}]\n"
     ]
    }
   ],
   "source": [
    "pprint.pprint(list(db.inventory.aggregate([match_stage, project_stage, unwind_stage, sort_stage, groupby_stage], allowDiskUse=True)))"
   ]
  },
  {
   "cell_type": "code",
   "execution_count": 46,
   "metadata": {},
   "outputs": [],
   "source": [
    "match_stage = {\"$match\": {\"provider_code\": \"aws\"}}\n",
    "project_stage = {\"$project\": {\"_id\":0, \"type\": 1, \"context\": 1}}\n",
    "unwind_stage = {\"$unwind\": \"$context.application\"}\n",
    "sort_stage = {\"$sort\": {\"context.application\": 1}}\n",
    "groupby_stage = {\"$group\": {\"_id\": {\"app\": \"$context.application\", \"type\": \"$type\"}, \"sum\": {\"$sum\": 1}}}\n",
    "cosmetic_output = {\"$group\": {\"_id\": \"$_id.app\", \"data\": {\"$push\": {\"type\": \"$_id.type\", \"count\": \"$sum\"}}}}"
   ]
  },
  {
   "cell_type": "code",
   "execution_count": 47,
   "metadata": {},
   "outputs": [
    {
     "name": "stdout",
     "output_type": "stream",
     "text": [
      "[{'_id': 'ecommerce_app',\n",
      "  'data': [{'count': 24943, 'type': 'independent_component'},\n",
      "           {'count': 90356, 'type': 'service_instance'}]},\n",
      " {'_id': 'cam',\n",
      "  'data': [{'count': 25431, 'type': 'independent_component'},\n",
      "           {'count': 88268, 'type': 'service_instance'}]},\n",
      " {'_id': 'store',\n",
      "  'data': [{'count': 25415, 'type': 'independent_component'},\n",
      "           {'count': 89114, 'type': 'service_instance'}]},\n",
      " {'_id': 'finance_app',\n",
      "  'data': [{'count': 89635, 'type': 'service_instance'},\n",
      "           {'count': 25277, 'type': 'independent_component'}]},\n",
      " {'_id': 'aiops',\n",
      "  'data': [{'count': 25544, 'type': 'independent_component'},\n",
      "           {'count': 88341, 'type': 'service_instance'}]},\n",
      " {'_id': 'cloud_based_app',\n",
      "  'data': [{'count': 25196, 'type': 'independent_component'},\n",
      "           {'count': 88515, 'type': 'service_instance'}]},\n",
      " {'_id': 'd2ops',\n",
      "  'data': [{'count': 88760, 'type': 'service_instance'},\n",
      "           {'count': 25205, 'type': 'independent_component'}]}]\n"
     ]
    }
   ],
   "source": [
    "pprint.pprint(list(db.inventory.aggregate([match_stage, project_stage, unwind_stage, sort_stage, groupby_stage, cosmetic_output], allowDiskUse=True)))"
   ]
  },
  {
   "cell_type": "markdown",
   "metadata": {},
   "source": [
    "## renaming group _id field"
   ]
  },
  {
   "cell_type": "code",
   "execution_count": 50,
   "metadata": {},
   "outputs": [],
   "source": [
    "match_stage = {\"$match\": {\"provider_code\": \"aws\"}}\n",
    "project_stage = {\"$project\": {\"_id\":0, \"type\": 1, \"context\": 1}}\n",
    "unwind_stage = {\"$unwind\": \"$context.application\"}\n",
    "sort_stage = {\"$sort\": {\"context.application\": 1}}\n",
    "groupby_stage = {\"$group\": {\"_id\": {\"app\": \"$context.application\", \"type\": \"$type\"}, \"sum\": {\"$sum\": 1}}}\n",
    "cosmetic_output = {\"$group\": {\"_id\": \"$_id.app\", \"data\": {\"$push\": {\"type\": \"$_id.type\", \"count\": \"$sum\"}}}}\n",
    "rename_id = {\"$project\": {\"_id\": 0, \"application\": \"$_id\", \"data\": 1}}"
   ]
  },
  {
   "cell_type": "code",
   "execution_count": 51,
   "metadata": {
    "scrolled": true
   },
   "outputs": [
    {
     "name": "stdout",
     "output_type": "stream",
     "text": [
      "[{'application': 'ecommerce_app',\n",
      "  'data': [{'count': 24943, 'type': 'independent_component'},\n",
      "           {'count': 90356, 'type': 'service_instance'}]},\n",
      " {'application': 'cam',\n",
      "  'data': [{'count': 25431, 'type': 'independent_component'},\n",
      "           {'count': 88268, 'type': 'service_instance'}]},\n",
      " {'application': 'store',\n",
      "  'data': [{'count': 25415, 'type': 'independent_component'},\n",
      "           {'count': 89114, 'type': 'service_instance'}]},\n",
      " {'application': 'finance_app',\n",
      "  'data': [{'count': 89635, 'type': 'service_instance'},\n",
      "           {'count': 25277, 'type': 'independent_component'}]},\n",
      " {'application': 'aiops',\n",
      "  'data': [{'count': 25544, 'type': 'independent_component'},\n",
      "           {'count': 88341, 'type': 'service_instance'}]},\n",
      " {'application': 'cloud_based_app',\n",
      "  'data': [{'count': 25196, 'type': 'independent_component'},\n",
      "           {'count': 88515, 'type': 'service_instance'}]},\n",
      " {'application': 'd2ops',\n",
      "  'data': [{'count': 88760, 'type': 'service_instance'},\n",
      "           {'count': 25205, 'type': 'independent_component'}]}]\n"
     ]
    }
   ],
   "source": [
    "pprint.pprint(list(db.inventory.aggregate([match_stage, project_stage, unwind_stage, sort_stage, groupby_stage, cosmetic_output, rename_id], allowDiskUse=True)))"
   ]
  },
  {
   "cell_type": "code",
   "execution_count": 58,
   "metadata": {},
   "outputs": [],
   "source": [
    "match_stage = {\"$match\": {\"provider_code\": \"aws\"}}\n",
    "project_stage = {\"$project\": {\"_id\":0, \"type\": 1, \"context\": 1}}\n",
    "unwind_stage = {\"$unwind\": \"$context.application\"}\n",
    "sort_stage = {\"$sort\": {\"context.application\": 1}}\n",
    "groupby_stage = {\"$group\": {\"_id\": {\"app\": \"$context.application\", \"type\": \"$type\"}, \"sum\": {\"$sum\": 1}}}\n",
    "cosmetic_output = {\"$group\": {\"_id\": \"$_id.app\", \"data\": {\"$push\": {\"type\": \"$_id.type\", \"count\": \"$sum\", \"application\": \"$_id.app\"}}}}\n",
    "rename_id = {\"$project\": {\"_id\": 0, \"data\": 1}}"
   ]
  },
  {
   "cell_type": "code",
   "execution_count": 59,
   "metadata": {},
   "outputs": [
    {
     "name": "stdout",
     "output_type": "stream",
     "text": [
      "[{'data': [{'application': 'ecommerce_app',\n",
      "            'count': 24943,\n",
      "            'type': 'independent_component'},\n",
      "           {'application': 'ecommerce_app',\n",
      "            'count': 90356,\n",
      "            'type': 'service_instance'}]},\n",
      " {'data': [{'application': 'cam',\n",
      "            'count': 25431,\n",
      "            'type': 'independent_component'},\n",
      "           {'application': 'cam', 'count': 88268, 'type': 'service_instance'}]},\n",
      " {'data': [{'application': 'store',\n",
      "            'count': 25415,\n",
      "            'type': 'independent_component'},\n",
      "           {'application': 'store',\n",
      "            'count': 89114,\n",
      "            'type': 'service_instance'}]},\n",
      " {'data': [{'application': 'finance_app',\n",
      "            'count': 89635,\n",
      "            'type': 'service_instance'},\n",
      "           {'application': 'finance_app',\n",
      "            'count': 25277,\n",
      "            'type': 'independent_component'}]},\n",
      " {'data': [{'application': 'aiops',\n",
      "            'count': 25544,\n",
      "            'type': 'independent_component'},\n",
      "           {'application': 'aiops',\n",
      "            'count': 88341,\n",
      "            'type': 'service_instance'}]},\n",
      " {'data': [{'application': 'cloud_based_app',\n",
      "            'count': 25196,\n",
      "            'type': 'independent_component'},\n",
      "           {'application': 'cloud_based_app',\n",
      "            'count': 88515,\n",
      "            'type': 'service_instance'}]},\n",
      " {'data': [{'application': 'd2ops', 'count': 88760, 'type': 'service_instance'},\n",
      "           {'application': 'd2ops',\n",
      "            'count': 25205,\n",
      "            'type': 'independent_component'}]}]\n"
     ]
    }
   ],
   "source": [
    "pprint.pprint(list(db.inventory.aggregate([match_stage, project_stage, unwind_stage, sort_stage, groupby_stage, cosmetic_output, rename_id], allowDiskUse=True)))"
   ]
  },
  {
   "cell_type": "code",
   "execution_count": null,
   "metadata": {},
   "outputs": [],
   "source": []
  }
 ],
 "metadata": {
  "kernelspec": {
   "display_name": "Python 3",
   "language": "python",
   "name": "python3"
  },
  "language_info": {
   "codemirror_mode": {
    "name": "ipython",
    "version": 3
   },
   "file_extension": ".py",
   "mimetype": "text/x-python",
   "name": "python",
   "nbconvert_exporter": "python",
   "pygments_lexer": "ipython3",
   "version": "3.6.7"
  }
 },
 "nbformat": 4,
 "nbformat_minor": 2
}
