{
 "cells": [
  {
   "cell_type": "code",
   "execution_count": 1,
   "metadata": {},
   "outputs": [
    {
     "name": "stdout",
     "output_type": "stream",
     "text": [
      "Collecting elasticsearch\n",
      "\u001b[?25l  Downloading https://files.pythonhosted.org/packages/ae/43/38329621bcca6f0b97e1cc36fb3cef889414a1960fcdc83a41e26b496634/elasticsearch-7.0.2-py2.py3-none-any.whl (83kB)\n",
      "\u001b[K    100% |████████████████████████████████| 92kB 1.0MB/s ta 0:00:011\n",
      "\u001b[?25hRequirement already satisfied: urllib3>=1.21.1 in /anaconda2/envs/py36/lib/python3.6/site-packages (from elasticsearch) (1.24.1)\n",
      "Installing collected packages: elasticsearch\n",
      "Successfully installed elasticsearch-7.0.2\n"
     ]
    }
   ],
   "source": [
    "!pip install elasticsearch"
   ]
  },
  {
   "cell_type": "code",
   "execution_count": 2,
   "metadata": {},
   "outputs": [],
   "source": [
    "from elasticsearch import Elasticsearch\n",
    "es = Elasticsearch()\n"
   ]
  },
  {
   "cell_type": "code",
   "execution_count": 3,
   "metadata": {},
   "outputs": [],
   "source": [
    "res = es.search(index=\"cloud_resources\", body={\"query\": {\"match_all\": {}}})"
   ]
  },
  {
   "cell_type": "code",
   "execution_count": 4,
   "metadata": {},
   "outputs": [
    {
     "data": {
      "text/plain": [
       "{'took': 24,\n",
       " 'timed_out': False,\n",
       " '_shards': {'total': 1, 'successful': 1, 'skipped': 0, 'failed': 0},\n",
       " 'hits': {'total': {'value': 10000, 'relation': 'gte'},\n",
       "  'max_score': 1.0,\n",
       "  'hits': [{'_index': 'cloud_resources',\n",
       "    '_type': 'inventory',\n",
       "    '_id': 'Br4GUGsB9FCRiI2zFw4p',\n",
       "    '_score': 1.0,\n",
       "    '_source': {'provider_account': '12345678',\n",
       "     'provider_code': 'TestProvider',\n",
       "     'provider_resource_id': {'value': '2RRURV0EMLOAXC2EGVHAPZOH8BTIPWLKFRBUB1XXUXBAQ',\n",
       "      'name': 'DJC3QJH6BP29CL2X22H3NTAFFOT40SOSZCHL4YQFYYL2CCY2XM8WG68OZHMKERC28'},\n",
       "     'provider_resource_name': 'RDS - bdf0e52e-7a03-486b-9693-18f032d22a21',\n",
       "     'status': 'Active',\n",
       "     'manage': 'ibm_managed',\n",
       "     'service_category_type': 'database',\n",
       "     'type': 'independent_component',\n",
       "     'provider_account_name': 'test_account_1',\n",
       "     'location': {'region_code': 'eu-central-1',\n",
       "      'availability_zone_code': ['eu-central-1a',\n",
       "       'eu-central-1b',\n",
       "       'eu-central-1c']},\n",
       "     'context': {'application': ['cam'], 'environment': ['dev']}}},\n",
       "   {'_index': 'cloud_resources',\n",
       "    '_type': 'inventory',\n",
       "    '_id': 'B74GUGsB9FCRiI2zFw4p',\n",
       "    '_score': 1.0,\n",
       "    '_source': {'provider_account': '12345678',\n",
       "     'provider_code': 'TestProvider',\n",
       "     'provider_resource_id': {'value': '3C4M2D3OHPBS0AAJH1WR41BPZ9SJ5A0010W9WVJYKF8Y5',\n",
       "      'name': '3G1VR7FK68GAPPYZ979OPG513YENU1KSYIOM4P087ITH8BZQX06X7TBXTC8GBVTAD'},\n",
       "     'provider_resource_name': 'Route 53 - 74888958-94fc-42dc-b51d-91dd8b457fe7',\n",
       "     'status': 'Active',\n",
       "     'manage': 'third_party',\n",
       "     'service_category_type': 'network',\n",
       "     'type': 'independent_component',\n",
       "     'provider_account_name': 'test_account_1',\n",
       "     'location': {'region_code': 'cn-north-1',\n",
       "      'availability_zone_code': ['cn-north-1a', 'cn-north-1b']},\n",
       "     'context': {'application': ['d2ops'], 'environment': ['dev']}}},\n",
       "   {'_index': 'cloud_resources',\n",
       "    '_type': 'inventory',\n",
       "    '_id': 'CL4GUGsB9FCRiI2zFw4p',\n",
       "    '_score': 1.0,\n",
       "    '_source': {'provider_account': '12345678',\n",
       "     'provider_code': 'TestProvider',\n",
       "     'provider_resource_id': {'value': 'NJ9N51SEL0BMBNGSA1GY4C2YIXS11FI5SCAW3SMEI2Q0E',\n",
       "      'name': '1G6ZDS90QKFVY9D0S598SW9530NTN0X9EZXL1M123BOOYV4I4CA0RI9BW63M5XBXM'},\n",
       "     'provider_resource_name': 'Elastic Block Storage (EBS) - 21284edd-5845-4fe8-aa59-887504fae662',\n",
       "     'status': 'Active',\n",
       "     'manage': 'enterprise_it',\n",
       "     'service_category_type': 'storage',\n",
       "     'type': 'service_instance',\n",
       "     'provider_account_name': 'test_account_1',\n",
       "     'location': {'region_code': 'ap-northeast-1',\n",
       "      'availability_zone_code': ['ap-northeast-1a',\n",
       "       'ap-northeast-1b',\n",
       "       'ap-northeast-1c',\n",
       "       'ap-northeast-1d']},\n",
       "     'context': {'application': ['d2ops'], 'environment': ['qa']}}},\n",
       "   {'_index': 'cloud_resources',\n",
       "    '_type': 'inventory',\n",
       "    '_id': 'Cb4GUGsB9FCRiI2zFw4p',\n",
       "    '_score': 1.0,\n",
       "    '_source': {'provider_account': '12345678',\n",
       "     'provider_code': 'TestProvider',\n",
       "     'provider_resource_id': {'value': '7AUJ0MCET5XK7XZ',\n",
       "      'name': '752C9EL8M1OBAJ2',\n",
       "      'associated': 'SV49FPJCZGSD4FT'},\n",
       "     'provider_resource_name': 'Route 53 - b7084d78-cbeb-4fd6-b8be-5d0ae989fc99',\n",
       "     'status': 'Active',\n",
       "     'manage': 'enterprise_it',\n",
       "     'service_category_type': 'network',\n",
       "     'type': 'associated_component',\n",
       "     'provider_account_name': 'test_account_1',\n",
       "     'context': {'application': ['d2ops'], 'environment': ['qa']},\n",
       "     'location': {'region_code': 'ap-northeast-1',\n",
       "      'availability_zone_code': ['ap-northeast-1a',\n",
       "       'ap-northeast-1b',\n",
       "       'ap-northeast-1c',\n",
       "       'ap-northeast-1d']},\n",
       "     'parent_resource_id': {'value': 'NJ9N51SEL0BMBNGSA1GY4C2YIXS11FI5SCAW3SMEI2Q0E',\n",
       "      'name': '1G6ZDS90QKFVY9D0S598SW9530NTN0X9EZXL1M123BOOYV4I4CA0RI9BW63M5XBXM'}}},\n",
       "   {'_index': 'cloud_resources',\n",
       "    '_type': 'inventory',\n",
       "    '_id': 'Cr4GUGsB9FCRiI2zFw4p',\n",
       "    '_score': 1.0,\n",
       "    '_source': {'provider_account': '12345678',\n",
       "     'provider_code': 'TestProvider',\n",
       "     'provider_resource_id': {'value': 'SMT4FEM7SAFKG5J',\n",
       "      'name': 'G3T6TG2YN6X5YL5',\n",
       "      'associated': 'SV49FPJCZGSD4FT'},\n",
       "     'provider_resource_name': 'Elastic Cache - f1667c69-fc07-493b-9133-41db4982db9b',\n",
       "     'status': 'Active',\n",
       "     'manage': 'enterprise_it',\n",
       "     'service_category_type': 'database',\n",
       "     'type': 'associated_component',\n",
       "     'provider_account_name': 'test_account_1',\n",
       "     'context': {'application': ['d2ops'], 'environment': ['qa']},\n",
       "     'location': {'region_code': 'ap-northeast-1',\n",
       "      'availability_zone_code': ['ap-northeast-1a',\n",
       "       'ap-northeast-1b',\n",
       "       'ap-northeast-1c',\n",
       "       'ap-northeast-1d']},\n",
       "     'parent_resource_id': {'value': 'NJ9N51SEL0BMBNGSA1GY4C2YIXS11FI5SCAW3SMEI2Q0E',\n",
       "      'name': '1G6ZDS90QKFVY9D0S598SW9530NTN0X9EZXL1M123BOOYV4I4CA0RI9BW63M5XBXM'}}},\n",
       "   {'_index': 'cloud_resources',\n",
       "    '_type': 'inventory',\n",
       "    '_id': 'C74GUGsB9FCRiI2zFw4p',\n",
       "    '_score': 1.0,\n",
       "    '_source': {'provider_account': '12345678',\n",
       "     'provider_code': 'TestProvider',\n",
       "     'provider_resource_id': {'value': 'NXKY1UTIKM03LAC',\n",
       "      'name': 'COZDURNM6US81S7',\n",
       "      'associated': 'SV49FPJCZGSD4FT'},\n",
       "     'provider_resource_name': 'RDS - 00778174-7d11-46fe-80a1-152399c2af1d',\n",
       "     'status': 'Active',\n",
       "     'manage': 'enterprise_it',\n",
       "     'service_category_type': 'database',\n",
       "     'type': 'associated_component',\n",
       "     'provider_account_name': 'test_account_1',\n",
       "     'context': {'application': ['d2ops'], 'environment': ['qa']},\n",
       "     'location': {'region_code': 'ap-northeast-1',\n",
       "      'availability_zone_code': ['ap-northeast-1a',\n",
       "       'ap-northeast-1b',\n",
       "       'ap-northeast-1c',\n",
       "       'ap-northeast-1d']},\n",
       "     'parent_resource_id': {'value': 'NJ9N51SEL0BMBNGSA1GY4C2YIXS11FI5SCAW3SMEI2Q0E',\n",
       "      'name': '1G6ZDS90QKFVY9D0S598SW9530NTN0X9EZXL1M123BOOYV4I4CA0RI9BW63M5XBXM'}}},\n",
       "   {'_index': 'cloud_resources',\n",
       "    '_type': 'inventory',\n",
       "    '_id': 'DL4GUGsB9FCRiI2zFw4p',\n",
       "    '_score': 1.0,\n",
       "    '_source': {'provider_account': '12345678',\n",
       "     'provider_code': 'TestProvider',\n",
       "     'provider_resource_id': {'value': '6X8LAYQ6DVZM675L3KOWSRHVDG3MHCSII4CP11YU7X75X',\n",
       "      'name': 'YC4YLTY1T2F05TD6AO73PR5Q06HHNF1PELCC6GTZI41J23XTO8UVE3JLYHSLYUIAW'},\n",
       "     'provider_resource_name': 'RDS - 2b041b23-b0a7-4d1d-a8c2-4a58ae380599',\n",
       "     'status': 'Active',\n",
       "     'manage': 'ibm_managed',\n",
       "     'service_category_type': 'database',\n",
       "     'type': 'independent_component',\n",
       "     'provider_account_name': 'test_account_1',\n",
       "     'location': {'region_code': 'sa-east-1',\n",
       "      'availability_zone_code': ['sa-east-1a', 'sa-east-1b', 'sa-east-1c']},\n",
       "     'context': {'application': ['store'], 'environment': ['qa']}}},\n",
       "   {'_index': 'cloud_resources',\n",
       "    '_type': 'inventory',\n",
       "    '_id': 'Db4GUGsB9FCRiI2zFw4p',\n",
       "    '_score': 1.0,\n",
       "    '_source': {'provider_account': '12345678',\n",
       "     'provider_code': 'TestProvider',\n",
       "     'provider_resource_id': {'value': 'WLN5A1YUDLY3YKUYU7LPZ1GYAE2SGYNCD83HRTWQ6I0L8',\n",
       "      'name': '959P31LB57C42EV6IQ91MWENWWWCZV04ZZ8UUGPJOQQOK5ASB3TS91Z7XKR05AQJ0'},\n",
       "     'provider_resource_name': 'Route 53 - f04fb617-8193-4ccc-9fb7-3fcaaf5faf06',\n",
       "     'status': 'Active',\n",
       "     'manage': 'third_party',\n",
       "     'service_category_type': 'network',\n",
       "     'type': 'service_instance',\n",
       "     'provider_account_name': 'test_account_1',\n",
       "     'location': {'region_code': 'eu-west-2',\n",
       "      'availability_zone_code': ['eu-west-2a', 'eu-west-2b', 'eu-west-2c']},\n",
       "     'context': {'application': ['ecommerce_app'], 'environment': ['qa']}}},\n",
       "   {'_index': 'cloud_resources',\n",
       "    '_type': 'inventory',\n",
       "    '_id': 'Dr4GUGsB9FCRiI2zFw4p',\n",
       "    '_score': 1.0,\n",
       "    '_source': {'provider_account': '12345678',\n",
       "     'provider_code': 'TestProvider',\n",
       "     'provider_resource_id': {'value': 'O2MOX4PMO0730N1',\n",
       "      'name': 'WX6YX3OCTTURBE2',\n",
       "      'associated': 'SV49FPJCZGSD4FT'},\n",
       "     'provider_resource_name': 'RDS - d16ea146-a611-4f98-8b04-b4b61a4e705d',\n",
       "     'status': 'Active',\n",
       "     'manage': 'third_party',\n",
       "     'service_category_type': 'database',\n",
       "     'type': 'associated_component',\n",
       "     'provider_account_name': 'test_account_1',\n",
       "     'context': {'application': ['ecommerce_app'], 'environment': ['qa']},\n",
       "     'location': {'region_code': 'eu-west-2',\n",
       "      'availability_zone_code': ['eu-west-2a', 'eu-west-2b', 'eu-west-2c']},\n",
       "     'parent_resource_id': {'value': 'WLN5A1YUDLY3YKUYU7LPZ1GYAE2SGYNCD83HRTWQ6I0L8',\n",
       "      'name': '959P31LB57C42EV6IQ91MWENWWWCZV04ZZ8UUGPJOQQOK5ASB3TS91Z7XKR05AQJ0'}}},\n",
       "   {'_index': 'cloud_resources',\n",
       "    '_type': 'inventory',\n",
       "    '_id': 'D74GUGsB9FCRiI2zFw4p',\n",
       "    '_score': 1.0,\n",
       "    '_source': {'provider_account': '12345678',\n",
       "     'provider_code': 'TestProvider',\n",
       "     'provider_resource_id': {'value': 'CU4FSQ519R97ADM',\n",
       "      'name': 'S5G5OKFBA0GQ3LJ',\n",
       "      'associated': 'SV49FPJCZGSD4FT'},\n",
       "     'provider_resource_name': 'Elastic Block Storage (EBS) - 588f156e-410e-4908-8222-bb463c52696f',\n",
       "     'status': 'Active',\n",
       "     'manage': 'third_party',\n",
       "     'service_category_type': 'storage',\n",
       "     'type': 'associated_component',\n",
       "     'provider_account_name': 'test_account_1',\n",
       "     'context': {'application': ['ecommerce_app'], 'environment': ['qa']},\n",
       "     'location': {'region_code': 'eu-west-2',\n",
       "      'availability_zone_code': ['eu-west-2a', 'eu-west-2b', 'eu-west-2c']},\n",
       "     'parent_resource_id': {'value': 'WLN5A1YUDLY3YKUYU7LPZ1GYAE2SGYNCD83HRTWQ6I0L8',\n",
       "      'name': '959P31LB57C42EV6IQ91MWENWWWCZV04ZZ8UUGPJOQQOK5ASB3TS91Z7XKR05AQJ0'}}}]}}"
      ]
     },
     "execution_count": 4,
     "metadata": {},
     "output_type": "execute_result"
    }
   ],
   "source": [
    "res"
   ]
  },
  {
   "cell_type": "code",
   "execution_count": 16,
   "metadata": {},
   "outputs": [],
   "source": [
    "res_count = es.count(index=\"cloud_resources\", body={\n",
    "    \"query\" : {\n",
    "        \"term\" : { \"provider_code\" : \"aws\" },\n",
    "        \"term\" : {\"context.application\": \"cam\"}\n",
    "    }\n",
    "})"
   ]
  },
  {
   "cell_type": "code",
   "execution_count": 17,
   "metadata": {},
   "outputs": [
    {
     "data": {
      "text/plain": [
       "{'count': 0,\n",
       " '_shards': {'total': 1, 'successful': 1, 'skipped': 0, 'failed': 0}}"
      ]
     },
     "execution_count": 17,
     "metadata": {},
     "output_type": "execute_result"
    }
   ],
   "source": [
    "res_count"
   ]
  },
  {
   "cell_type": "code",
   "execution_count": 30,
   "metadata": {},
   "outputs": [
    {
     "ename": "RequestError",
     "evalue": "RequestError(400, 'parsing_exception', '[match] unknown token [START_ARRAY] after [in]')",
     "output_type": "error",
     "traceback": [
      "\u001b[0;31m---------------------------------------------------------------------------\u001b[0m",
      "\u001b[0;31mRequestError\u001b[0m                              Traceback (most recent call last)",
      "\u001b[0;32m<ipython-input-30-919a0c976d29>\u001b[0m in \u001b[0;36m<module>\u001b[0;34m\u001b[0m\n\u001b[1;32m      2\u001b[0m     \"query\" : {\n\u001b[1;32m      3\u001b[0m         \u001b[0;34m\"match\"\u001b[0m \u001b[0;34m:\u001b[0m \u001b[0;34m{\u001b[0m \u001b[0;34m\"provider_code\"\u001b[0m \u001b[0;34m:\u001b[0m \u001b[0;34m\"aws\"\u001b[0m\u001b[0;34m}\u001b[0m\u001b[0;34m,\u001b[0m\u001b[0;34m\u001b[0m\u001b[0;34m\u001b[0m\u001b[0m\n\u001b[0;32m----> 4\u001b[0;31m         \u001b[0;34m\"match\"\u001b[0m \u001b[0;34m:\u001b[0m \u001b[0;34m{\u001b[0m\u001b[0;34m\"context.application\"\u001b[0m\u001b[0;34m:\u001b[0m \u001b[0;34m{\u001b[0m\u001b[0;34m\"in\"\u001b[0m\u001b[0;34m:\u001b[0m \u001b[0;34m[\u001b[0m\u001b[0;34m\"aiops\"\u001b[0m\u001b[0;34m]\u001b[0m\u001b[0;34m}\u001b[0m\u001b[0;34m}\u001b[0m\u001b[0;34m\u001b[0m\u001b[0;34m\u001b[0m\u001b[0m\n\u001b[0m\u001b[1;32m      5\u001b[0m     }\n\u001b[1;32m      6\u001b[0m })\n",
      "\u001b[0;32m/anaconda2/envs/py36/lib/python3.6/site-packages/elasticsearch/client/utils.py\u001b[0m in \u001b[0;36m_wrapped\u001b[0;34m(*args, **kwargs)\u001b[0m\n\u001b[1;32m     82\u001b[0m                 \u001b[0;32mif\u001b[0m \u001b[0mp\u001b[0m \u001b[0;32min\u001b[0m \u001b[0mkwargs\u001b[0m\u001b[0;34m:\u001b[0m\u001b[0;34m\u001b[0m\u001b[0;34m\u001b[0m\u001b[0m\n\u001b[1;32m     83\u001b[0m                     \u001b[0mparams\u001b[0m\u001b[0;34m[\u001b[0m\u001b[0mp\u001b[0m\u001b[0;34m]\u001b[0m \u001b[0;34m=\u001b[0m \u001b[0mkwargs\u001b[0m\u001b[0;34m.\u001b[0m\u001b[0mpop\u001b[0m\u001b[0;34m(\u001b[0m\u001b[0mp\u001b[0m\u001b[0;34m)\u001b[0m\u001b[0;34m\u001b[0m\u001b[0;34m\u001b[0m\u001b[0m\n\u001b[0;32m---> 84\u001b[0;31m             \u001b[0;32mreturn\u001b[0m \u001b[0mfunc\u001b[0m\u001b[0;34m(\u001b[0m\u001b[0;34m*\u001b[0m\u001b[0margs\u001b[0m\u001b[0;34m,\u001b[0m \u001b[0mparams\u001b[0m\u001b[0;34m=\u001b[0m\u001b[0mparams\u001b[0m\u001b[0;34m,\u001b[0m \u001b[0;34m**\u001b[0m\u001b[0mkwargs\u001b[0m\u001b[0;34m)\u001b[0m\u001b[0;34m\u001b[0m\u001b[0;34m\u001b[0m\u001b[0m\n\u001b[0m\u001b[1;32m     85\u001b[0m \u001b[0;34m\u001b[0m\u001b[0m\n\u001b[1;32m     86\u001b[0m         \u001b[0;32mreturn\u001b[0m \u001b[0m_wrapped\u001b[0m\u001b[0;34m\u001b[0m\u001b[0;34m\u001b[0m\u001b[0m\n",
      "\u001b[0;32m/anaconda2/envs/py36/lib/python3.6/site-packages/elasticsearch/client/__init__.py\u001b[0m in \u001b[0;36mcount\u001b[0;34m(self, doc_type, index, body, params)\u001b[0m\n\u001b[1;32m   1440\u001b[0m \u001b[0;34m\u001b[0m\u001b[0m\n\u001b[1;32m   1441\u001b[0m         return self.transport.perform_request(\n\u001b[0;32m-> 1442\u001b[0;31m             \u001b[0;34m\"GET\"\u001b[0m\u001b[0;34m,\u001b[0m \u001b[0m_make_path\u001b[0m\u001b[0;34m(\u001b[0m\u001b[0mindex\u001b[0m\u001b[0;34m,\u001b[0m \u001b[0mdoc_type\u001b[0m\u001b[0;34m,\u001b[0m \u001b[0;34m\"_count\"\u001b[0m\u001b[0;34m)\u001b[0m\u001b[0;34m,\u001b[0m \u001b[0mparams\u001b[0m\u001b[0;34m=\u001b[0m\u001b[0mparams\u001b[0m\u001b[0;34m,\u001b[0m \u001b[0mbody\u001b[0m\u001b[0;34m=\u001b[0m\u001b[0mbody\u001b[0m\u001b[0;34m\u001b[0m\u001b[0;34m\u001b[0m\u001b[0m\n\u001b[0m\u001b[1;32m   1443\u001b[0m         )\n\u001b[1;32m   1444\u001b[0m \u001b[0;34m\u001b[0m\u001b[0m\n",
      "\u001b[0;32m/anaconda2/envs/py36/lib/python3.6/site-packages/elasticsearch/transport.py\u001b[0m in \u001b[0;36mperform_request\u001b[0;34m(self, method, url, headers, params, body)\u001b[0m\n\u001b[1;32m    351\u001b[0m                     \u001b[0mheaders\u001b[0m\u001b[0;34m=\u001b[0m\u001b[0mheaders\u001b[0m\u001b[0;34m,\u001b[0m\u001b[0;34m\u001b[0m\u001b[0;34m\u001b[0m\u001b[0m\n\u001b[1;32m    352\u001b[0m                     \u001b[0mignore\u001b[0m\u001b[0;34m=\u001b[0m\u001b[0mignore\u001b[0m\u001b[0;34m,\u001b[0m\u001b[0;34m\u001b[0m\u001b[0;34m\u001b[0m\u001b[0m\n\u001b[0;32m--> 353\u001b[0;31m                     \u001b[0mtimeout\u001b[0m\u001b[0;34m=\u001b[0m\u001b[0mtimeout\u001b[0m\u001b[0;34m,\u001b[0m\u001b[0;34m\u001b[0m\u001b[0;34m\u001b[0m\u001b[0m\n\u001b[0m\u001b[1;32m    354\u001b[0m                 )\n\u001b[1;32m    355\u001b[0m \u001b[0;34m\u001b[0m\u001b[0m\n",
      "\u001b[0;32m/anaconda2/envs/py36/lib/python3.6/site-packages/elasticsearch/connection/http_urllib3.py\u001b[0m in \u001b[0;36mperform_request\u001b[0;34m(self, method, url, params, body, timeout, ignore, headers)\u001b[0m\n\u001b[1;32m    249\u001b[0m                 \u001b[0mmethod\u001b[0m\u001b[0;34m,\u001b[0m \u001b[0mfull_url\u001b[0m\u001b[0;34m,\u001b[0m \u001b[0murl\u001b[0m\u001b[0;34m,\u001b[0m \u001b[0mbody\u001b[0m\u001b[0;34m,\u001b[0m \u001b[0mduration\u001b[0m\u001b[0;34m,\u001b[0m \u001b[0mresponse\u001b[0m\u001b[0;34m.\u001b[0m\u001b[0mstatus\u001b[0m\u001b[0;34m,\u001b[0m \u001b[0mraw_data\u001b[0m\u001b[0;34m\u001b[0m\u001b[0;34m\u001b[0m\u001b[0m\n\u001b[1;32m    250\u001b[0m             )\n\u001b[0;32m--> 251\u001b[0;31m             \u001b[0mself\u001b[0m\u001b[0;34m.\u001b[0m\u001b[0m_raise_error\u001b[0m\u001b[0;34m(\u001b[0m\u001b[0mresponse\u001b[0m\u001b[0;34m.\u001b[0m\u001b[0mstatus\u001b[0m\u001b[0;34m,\u001b[0m \u001b[0mraw_data\u001b[0m\u001b[0;34m)\u001b[0m\u001b[0;34m\u001b[0m\u001b[0;34m\u001b[0m\u001b[0m\n\u001b[0m\u001b[1;32m    252\u001b[0m \u001b[0;34m\u001b[0m\u001b[0m\n\u001b[1;32m    253\u001b[0m         self.log_request_success(\n",
      "\u001b[0;32m/anaconda2/envs/py36/lib/python3.6/site-packages/elasticsearch/connection/base.py\u001b[0m in \u001b[0;36m_raise_error\u001b[0;34m(self, status_code, raw_data)\u001b[0m\n\u001b[1;32m    176\u001b[0m \u001b[0;34m\u001b[0m\u001b[0m\n\u001b[1;32m    177\u001b[0m         raise HTTP_EXCEPTIONS.get(status_code, TransportError)(\n\u001b[0;32m--> 178\u001b[0;31m             \u001b[0mstatus_code\u001b[0m\u001b[0;34m,\u001b[0m \u001b[0merror_message\u001b[0m\u001b[0;34m,\u001b[0m \u001b[0madditional_info\u001b[0m\u001b[0;34m\u001b[0m\u001b[0;34m\u001b[0m\u001b[0m\n\u001b[0m\u001b[1;32m    179\u001b[0m         )\n",
      "\u001b[0;31mRequestError\u001b[0m: RequestError(400, 'parsing_exception', '[match] unknown token [START_ARRAY] after [in]')"
     ]
    }
   ],
   "source": [
    "res_count = es.count(index=\"cloud_resources\", body={\n",
    "    \"query\" : {\n",
    "        \"match\" : { \"provider_code\" : \"aws\"},\n",
    "        \"match\" : {\"context.application\": {\"in\": [\"aiops\"]}}\n",
    "    }\n",
    "})"
   ]
  },
  {
   "cell_type": "code",
   "execution_count": 28,
   "metadata": {},
   "outputs": [
    {
     "data": {
      "text/plain": [
       "{'count': 142878,\n",
       " '_shards': {'total': 1, 'successful': 1, 'skipped': 0, 'failed': 0}}"
      ]
     },
     "execution_count": 28,
     "metadata": {},
     "output_type": "execute_result"
    }
   ],
   "source": [
    "res_count"
   ]
  },
  {
   "cell_type": "code",
   "execution_count": null,
   "metadata": {},
   "outputs": [],
   "source": []
  }
 ],
 "metadata": {
  "kernelspec": {
   "display_name": "Python 3",
   "language": "python",
   "name": "python3"
  },
  "language_info": {
   "codemirror_mode": {
    "name": "ipython",
    "version": 3
   },
   "file_extension": ".py",
   "mimetype": "text/x-python",
   "name": "python",
   "nbconvert_exporter": "python",
   "pygments_lexer": "ipython3",
   "version": "3.6.7"
  }
 },
 "nbformat": 4,
 "nbformat_minor": 2
}
