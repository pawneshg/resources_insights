{
 "cells": [
  {
   "cell_type": "code",
   "execution_count": 17,
   "metadata": {},
   "outputs": [],
   "source": [
    "from pymongo import MongoClient\n",
    "mongo_url = 'mongodb://localhost:27017/'\n",
    "client = MongoClient(mongo_url)\n",
    "db = client.cloud_resources # database\n",
    "inventory = db.inventory_five_million   # collection"
   ]
  },
  {
   "cell_type": "code",
   "execution_count": 5,
   "metadata": {},
   "outputs": [],
   "source": [
    "import pprint"
   ]
  },
  {
   "cell_type": "code",
   "execution_count": 6,
   "metadata": {},
   "outputs": [],
   "source": [
    "match_stage = {\"$match\": {\"provider_code\": \"aws\", \"provider_account\": {\"$in\": [\"4565435\"]}}}\n",
    "project_stage = {\"$project\": {\"_id\":0, \"type\": 1, \"context\": 1}}\n",
    "unwind_stage = {\"$unwind\": \"$context.application\"}\n",
    "#sort_stage = {\"$sort\": {\"context.application\": 1}}\n",
    "groupby_stage = {\"$group\": {\"_id\": {\"app\": \"$context.application\", \"type\": \"$type\"}, \"sum\": {\"$sum\": 1}}}\n",
    "#cosmetic_output = {\"$group\": {\"_id\": \"$_id.app\", \"data\": {\"$push\": {\"type\": \"$_id.type\", \"count\": \"$sum\"}}}}\n",
    "#rename_id = {\"$project\": {\"_id\": 0, \"application\": \"$_id\", \"data\": 1}}"
   ]
  },
  {
   "cell_type": "code",
   "execution_count": 8,
   "metadata": {},
   "outputs": [
    {
     "name": "stdout",
     "output_type": "stream",
     "text": [
      "[{'_id': {'app': 'ecommerce_app', 'type': 'service_instance'}, 'sum': 22553},\n",
      " {'_id': {'app': 'finance_app', 'type': 'independent_component'}, 'sum': 6340},\n",
      " {'_id': {'app': 'store', 'type': 'independent_component'}, 'sum': 6371},\n",
      " {'_id': {'app': 'ecommerce_app', 'type': 'independent_component'},\n",
      "  'sum': 6215},\n",
      " {'_id': {'app': 'aiops', 'type': 'independent_component'}, 'sum': 6475},\n",
      " {'_id': {'app': 'd2ops', 'type': 'service_instance'}, 'sum': 21963},\n",
      " {'_id': {'app': 'cloud_based_app', 'type': 'service_instance'}, 'sum': 22081},\n",
      " {'_id': {'app': 'cam', 'type': 'service_instance'}, 'sum': 21931},\n",
      " {'_id': {'app': 'cloud_based_app', 'type': 'independent_component'},\n",
      "  'sum': 6373},\n",
      " {'_id': {'app': 'store', 'type': 'service_instance'}, 'sum': 22661},\n",
      " {'_id': {'app': 'd2ops', 'type': 'independent_component'}, 'sum': 6235},\n",
      " {'_id': {'app': 'finance_app', 'type': 'service_instance'}, 'sum': 22721},\n",
      " {'_id': {'app': 'cam', 'type': 'independent_component'}, 'sum': 6352},\n",
      " {'_id': {'app': 'aiops', 'type': 'service_instance'}, 'sum': 21729}]\n",
      "--- 2.245922088623047 seconds ---\n"
     ]
    }
   ],
   "source": [
    "import time\n",
    "start_time = time.time()\n",
    "\n",
    "pprint.pprint(list(db.inventory.aggregate([match_stage, project_stage, unwind_stage, groupby_stage], allowDiskUse=True)))\n",
    "print(\"--- %s seconds ---\" % (time.time() - start_time))"
   ]
  },
  {
   "cell_type": "markdown",
   "metadata": {},
   "source": [
    "# After Indexing "
   ]
  },
  {
   "cell_type": "markdown",
   "metadata": {},
   "source": [
    "```witched to db cloud_resources```\n",
    "```python\n",
    "> db.inventory.createIndex({\"provider_code\": 1, \"provider_account\": 1})\n",
    "{\n",
    "\t\"createdCollectionAutomatically\" : false,\n",
    "\t\"numIndexesBefore\" : 1,\n",
    "\t\"numIndexesAfter\" : 2,\n",
    "\t\"ok\" : 1\n",
    "} ```\n",
    "\n",
    "```python\n",
    "> db.inventory.createIndex({\"context.application\": 1})\n",
    "{\n",
    "\t\"createdCollectionAutomatically\" : false,\n",
    "\t\"numIndexesBefore\" : 2,\n",
    "\t\"numIndexesAfter\" : 3,\n",
    "\t\"ok\" : 1\n",
    "}\n",
    "> ```"
   ]
  },
  {
   "cell_type": "code",
   "execution_count": 9,
   "metadata": {},
   "outputs": [],
   "source": [
    "match_stage = {\"$match\": {\"provider_code\": \"aws\", \"provider_account\": {\"$in\": [\"4565435\"]}}}\n",
    "project_stage = {\"$project\": {\"_id\":0, \"type\": 1, \"context\": 1}}\n",
    "unwind_stage = {\"$unwind\": \"$context.application\"}\n",
    "#sort_stage = {\"$sort\": {\"context.application\": 1}}\n",
    "groupby_stage = {\"$group\": {\"_id\": {\"app\": \"$context.application\", \"type\": \"$type\"}, \"sum\": {\"$sum\": 1}}}\n",
    "#cosmetic_output = {\"$group\": {\"_id\": \"$_id.app\", \"data\": {\"$push\": {\"type\": \"$_id.type\", \"count\": \"$sum\"}}}}\n",
    "#rename_id = {\"$project\": {\"_id\": 0, \"application\": \"$_id\", \"data\": 1}}"
   ]
  },
  {
   "cell_type": "code",
   "execution_count": 10,
   "metadata": {},
   "outputs": [
    {
     "name": "stdout",
     "output_type": "stream",
     "text": [
      "[{'_id': {'app': 'ecommerce_app', 'type': 'service_instance'}, 'sum': 22553},\n",
      " {'_id': {'app': 'finance_app', 'type': 'independent_component'}, 'sum': 6340},\n",
      " {'_id': {'app': 'store', 'type': 'independent_component'}, 'sum': 6371},\n",
      " {'_id': {'app': 'ecommerce_app', 'type': 'independent_component'},\n",
      "  'sum': 6215},\n",
      " {'_id': {'app': 'aiops', 'type': 'independent_component'}, 'sum': 6475},\n",
      " {'_id': {'app': 'd2ops', 'type': 'service_instance'}, 'sum': 21963},\n",
      " {'_id': {'app': 'cloud_based_app', 'type': 'service_instance'}, 'sum': 22081},\n",
      " {'_id': {'app': 'cam', 'type': 'service_instance'}, 'sum': 21931},\n",
      " {'_id': {'app': 'cloud_based_app', 'type': 'independent_component'},\n",
      "  'sum': 6373},\n",
      " {'_id': {'app': 'store', 'type': 'service_instance'}, 'sum': 22661},\n",
      " {'_id': {'app': 'd2ops', 'type': 'independent_component'}, 'sum': 6235},\n",
      " {'_id': {'app': 'finance_app', 'type': 'service_instance'}, 'sum': 22721},\n",
      " {'_id': {'app': 'cam', 'type': 'independent_component'}, 'sum': 6352},\n",
      " {'_id': {'app': 'aiops', 'type': 'service_instance'}, 'sum': 21729}]\n",
      "--- 2.614898920059204 seconds ---\n"
     ]
    }
   ],
   "source": [
    "import time\n",
    "start_time = time.time()\n",
    "\n",
    "pprint.pprint(list(db.inventory.aggregate([match_stage, project_stage, unwind_stage, groupby_stage], allowDiskUse=True)))\n",
    "print(\"--- %s seconds ---\" % (time.time() - start_time))"
   ]
  },
  {
   "cell_type": "markdown",
   "metadata": {},
   "source": [
    "## After Query Improvement"
   ]
  },
  {
   "cell_type": "code",
   "execution_count": 11,
   "metadata": {},
   "outputs": [],
   "source": [
    "match_stage = {\"$match\": {\"provider_code\": \"aws\", \"provider_account\": \"4565435\"}}\n",
    "application_match_stage = {\"$match\": {\"context.application\": {\"$in\": ['ecommerce_app', 'finance_app', 'store', 'aiops', 'd2ops', 'cam', 'cloud_based_app']}}}\n",
    "project_stage = {\"$project\": {\"_id\":0, \"type\": 1, \"context\": 1}}\n",
    "unwind_stage = {\"$unwind\": \"$context.application\"}\n",
    "#sort_stage = {\"$sort\": {\"context.application\": 1}}\n",
    "groupby_stage = {\"$group\": {\"_id\": {\"app\": \"$context.application\", \"type\": \"$type\"}, \"sum\": {\"$sum\": 1}}}\n",
    "#cosmetic_output = {\"$group\": {\"_id\": \"$_id.app\", \"data\": {\"$push\": {\"type\": \"$_id.type\", \"count\": \"$sum\"}}}}\n",
    "#rename_id = {\"$project\": {\"_id\": 0, \"application\": \"$_id\", \"data\": 1}}"
   ]
  },
  {
   "cell_type": "code",
   "execution_count": 12,
   "metadata": {},
   "outputs": [
    {
     "name": "stdout",
     "output_type": "stream",
     "text": [
      "[{'_id': {'app': 'ecommerce_app', 'type': 'service_instance'}, 'sum': 22553},\n",
      " {'_id': {'app': 'finance_app', 'type': 'independent_component'}, 'sum': 6340},\n",
      " {'_id': {'app': 'store', 'type': 'independent_component'}, 'sum': 6371},\n",
      " {'_id': {'app': 'ecommerce_app', 'type': 'independent_component'},\n",
      "  'sum': 6215},\n",
      " {'_id': {'app': 'aiops', 'type': 'independent_component'}, 'sum': 6475},\n",
      " {'_id': {'app': 'd2ops', 'type': 'service_instance'}, 'sum': 21963},\n",
      " {'_id': {'app': 'cloud_based_app', 'type': 'service_instance'}, 'sum': 22081},\n",
      " {'_id': {'app': 'cam', 'type': 'service_instance'}, 'sum': 21931},\n",
      " {'_id': {'app': 'cloud_based_app', 'type': 'independent_component'},\n",
      "  'sum': 6373},\n",
      " {'_id': {'app': 'store', 'type': 'service_instance'}, 'sum': 22661},\n",
      " {'_id': {'app': 'd2ops', 'type': 'independent_component'}, 'sum': 6235},\n",
      " {'_id': {'app': 'finance_app', 'type': 'service_instance'}, 'sum': 22721},\n",
      " {'_id': {'app': 'cam', 'type': 'independent_component'}, 'sum': 6352},\n",
      " {'_id': {'app': 'aiops', 'type': 'service_instance'}, 'sum': 21729}]\n",
      "--- 2.4315788745880127 seconds ---\n"
     ]
    }
   ],
   "source": [
    "import time\n",
    "start_time = time.time()\n",
    "\n",
    "pprint.pprint(list(db.inventory.aggregate([match_stage, application_match_stage, project_stage, unwind_stage, groupby_stage], allowDiskUse=True)))\n",
    "print(\"--- %s seconds ---\" % (time.time() - start_time))"
   ]
  },
  {
   "cell_type": "markdown",
   "metadata": {},
   "source": [
    "## Reducing the DATA "
   ]
  },
  {
   "cell_type": "code",
   "execution_count": 13,
   "metadata": {},
   "outputs": [],
   "source": [
    "match_stage = {\"$match\": {\"provider_code\": \"aws\", \"provider_account\": \"4565435\"}}\n",
    "application_match_stage = {\"$match\": {\"context.application\": {\"$in\": ['ecommerce_app', 'finance_app']}}}\n",
    "project_stage = {\"$project\": {\"_id\":0, \"type\": 1, \"context\": 1}}\n",
    "unwind_stage = {\"$unwind\": \"$context.application\"}\n",
    "#sort_stage = {\"$sort\": {\"context.application\": 1}}\n",
    "groupby_stage = {\"$group\": {\"_id\": {\"app\": \"$context.application\", \"type\": \"$type\"}, \"sum\": {\"$sum\": 1}}}\n",
    "#cosmetic_output = {\"$group\": {\"_id\": \"$_id.app\", \"data\": {\"$push\": {\"type\": \"$_id.type\", \"count\": \"$sum\"}}}}\n",
    "#rename_id = {\"$project\": {\"_id\": 0, \"application\": \"$_id\", \"data\": 1}}"
   ]
  },
  {
   "cell_type": "code",
   "execution_count": 14,
   "metadata": {},
   "outputs": [
    {
     "name": "stdout",
     "output_type": "stream",
     "text": [
      "[{'_id': {'app': 'ecommerce_app', 'type': 'service_instance'}, 'sum': 22553},\n",
      " {'_id': {'app': 'finance_app', 'type': 'independent_component'}, 'sum': 6340},\n",
      " {'_id': {'app': 'finance_app', 'type': 'service_instance'}, 'sum': 22721},\n",
      " {'_id': {'app': 'ecommerce_app', 'type': 'independent_component'},\n",
      "  'sum': 6215}]\n",
      "--- 1.3668749332427979 seconds ---\n"
     ]
    }
   ],
   "source": [
    "import time\n",
    "start_time = time.time()\n",
    "\n",
    "pprint.pprint(list(db.inventory.aggregate([match_stage, application_match_stage, project_stage, unwind_stage, groupby_stage], allowDiskUse=True)))\n",
    "print(\"--- %s seconds ---\" % (time.time() - start_time))"
   ]
  },
  {
   "cell_type": "markdown",
   "metadata": {},
   "source": [
    "#### above operation is performed on 57829 resources"
   ]
  },
  {
   "cell_type": "code",
   "execution_count": 15,
   "metadata": {},
   "outputs": [],
   "source": [
    "record_count = {\"$group\": {\"_id\": \"\", \"sum\": {\"$sum\": 1}}}"
   ]
  },
  {
   "cell_type": "code",
   "execution_count": 16,
   "metadata": {},
   "outputs": [
    {
     "name": "stdout",
     "output_type": "stream",
     "text": [
      "[{'_id': '', 'sum': 57829}]\n"
     ]
    }
   ],
   "source": [
    "pprint.pprint(list(db.inventory.aggregate([match_stage, application_match_stage, record_count], allowDiskUse=True)))"
   ]
  },
  {
   "cell_type": "markdown",
   "metadata": {},
   "source": [
    "# Group by provider "
   ]
  },
  {
   "cell_type": "code",
   "execution_count": 18,
   "metadata": {},
   "outputs": [],
   "source": [
    "match_stage = {\"$match\": {\"provider_code\": \"aws\"}}\n",
    "application_match_stage = {\"$match\": {\"context.application\": {\"$in\": ['ecommerce_app', 'finance_app']}}}\n",
    "groupby_stage = {\"$group\": {\"_id\": \"$provider_account\", \"sum\": {\"$sum\": 1}}}"
   ]
  },
  {
   "cell_type": "code",
   "execution_count": 19,
   "metadata": {},
   "outputs": [
    {
     "name": "stdout",
     "output_type": "stream",
     "text": [
      "[{'_id': '5432', 'sum': 57556},\n",
      " {'_id': '34566', 'sum': 57040},\n",
      " {'_id': '12345678', 'sum': 56945},\n",
      " {'_id': '4565435', 'sum': 57829},\n",
      " {'_id': '123', 'sum': 57786}]\n",
      "--- 7.98647928237915 seconds ---\n"
     ]
    }
   ],
   "source": [
    "import time\n",
    "start_time = time.time()\n",
    "pprint.pprint(list(db.inventory.aggregate([application_match_stage, groupby_stage], allowDiskUse=True)))\n",
    "print(\"--- %s seconds ---\" % (time.time() - start_time))\n"
   ]
  },
  {
   "cell_type": "markdown",
   "metadata": {},
   "source": [
    "# untagged application count "
   ]
  },
  {
   "cell_type": "code",
   "execution_count": 20,
   "metadata": {},
   "outputs": [],
   "source": [
    "match_stage = {\"$match\": {\"context.application\": [\"cam\"]}}\n",
    "groupby_stage = {\"$group\": {\"_id\": \"$status\", \"sum\": {\"$sum\": 1}}}"
   ]
  },
  {
   "cell_type": "code",
   "execution_count": 21,
   "metadata": {},
   "outputs": [
    {
     "name": "stdout",
     "output_type": "stream",
     "text": [
      "[{'_id': 'Active', 'sum': 142153}]\n",
      "--- 1.668138027191162 seconds ---\n"
     ]
    }
   ],
   "source": [
    "import time\n",
    "start_time = time.time()\n",
    "pprint.pprint(list(db.inventory.aggregate([match_stage, groupby_stage], allowDiskUse=True)))\n",
    "print(\"--- %s seconds ---\" % (time.time() - start_time))\n",
    "\n"
   ]
  },
  {
   "cell_type": "markdown",
   "metadata": {},
   "source": [
    "# Group by location "
   ]
  },
  {
   "cell_type": "code",
   "execution_count": 22,
   "metadata": {},
   "outputs": [],
   "source": [
    "match_stage = {\"$match\": {\"context.application\": [\"cam\"]}}\n",
    "groupby_stage = {\"$group\": {\"_id\": \"$location.region_code\", \"sum\": {\"$sum\": 1}}}"
   ]
  },
  {
   "cell_type": "code",
   "execution_count": 23,
   "metadata": {},
   "outputs": [
    {
     "name": "stdout",
     "output_type": "stream",
     "text": [
      "[{'_id': 'ca-central-1', 'sum': 52634},\n",
      " {'_id': 'eu-west-1', 'sum': 52474},\n",
      " {'_id': 'ap-southeast-2', 'sum': 52178},\n",
      " {'_id': 'eu-west-2', 'sum': 52951},\n",
      " {'_id': 'ap-northeast-1', 'sum': 53005},\n",
      " {'_id': 'cn-north-1', 'sum': 52528},\n",
      " {'_id': 'sa-east-1', 'sum': 52099},\n",
      " {'_id': 'cn-northwest-1', 'sum': 52731},\n",
      " {'_id': 'eu-central-1', 'sum': 52055},\n",
      " {'_id': 'eu-west-3', 'sum': 53044},\n",
      " {'_id': 'us-east-1', 'sum': 53185},\n",
      " {'_id': 'ap-south-1', 'sum': 52716},\n",
      " {'_id': 'us-west-1', 'sum': 52245},\n",
      " {'_id': 'US', 'sum': 52789},\n",
      " {'_id': 'us-east-2', 'sum': 52432},\n",
      " {'_id': 'ap-southeast-1', 'sum': 53054},\n",
      " {'_id': 'ap-northeast-2', 'sum': 52319},\n",
      " {'_id': 'ap-northeast-3', 'sum': 52688},\n",
      " {'_id': 'us-west-2', 'sum': 52873}]\n",
      "--- 3.070683002471924 seconds ---\n"
     ]
    }
   ],
   "source": [
    "import time\n",
    "start_time = time.time()\n",
    "pprint.pprint(list(db.inventory.aggregate([groupby_stage], allowDiskUse=True)))\n",
    "print(\"--- %s seconds ---\" % (time.time() - start_time))\n",
    "\n"
   ]
  },
  {
   "cell_type": "code",
   "execution_count": null,
   "metadata": {},
   "outputs": [],
   "source": []
  }
 ],
 "metadata": {
  "kernelspec": {
   "display_name": "Python 3",
   "language": "python",
   "name": "python3"
  },
  "language_info": {
   "codemirror_mode": {
    "name": "ipython",
    "version": 3
   },
   "file_extension": ".py",
   "mimetype": "text/x-python",
   "name": "python",
   "nbconvert_exporter": "python",
   "pygments_lexer": "ipython3",
   "version": "3.6.7"
  }
 },
 "nbformat": 4,
 "nbformat_minor": 2
}
